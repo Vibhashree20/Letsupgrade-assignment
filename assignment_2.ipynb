{
  "nbformat": 4,
  "nbformat_minor": 0,
  "metadata": {
    "colab": {
      "name": "assignment 2.ipynb",
      "provenance": [],
      "collapsed_sections": [],
      "authorship_tag": "ABX9TyMPegzwFrk0fK1suP/YCQ1Q",
      "include_colab_link": true
    },
    "kernelspec": {
      "name": "python3",
      "display_name": "Python 3"
    }
  },
  "cells": [
    {
      "cell_type": "markdown",
      "metadata": {
        "id": "view-in-github",
        "colab_type": "text"
      },
      "source": [
        "<a href=\"https://colab.research.google.com/github/Vibhashree20/Letsupgrade-assignment/blob/main/assignment_2.ipynb\" target=\"_parent\"><img src=\"https://colab.research.google.com/assets/colab-badge.svg\" alt=\"Open In Colab\"/></a>"
      ]
    },
    {
      "cell_type": "code",
      "metadata": {
        "colab": {
          "base_uri": "https://localhost:8080/"
        },
        "id": "nLXm07Dqf2GC",
        "outputId": "a9287176-0cfd-48a0-cc55-01978769e844"
      },
      "source": [
        "#day 2 assignment\r\n",
        "alt=int(input(\"enter the altitude\"))\r\n",
        "if alt<=1000:\r\n",
        "  print(\"safe to land\")\r\n",
        "elif 1000<alt<=5000:\r\n",
        "  print(\"bring down to 1000\")\r\n",
        "else:\r\n",
        "  print(\"turn around\")"
      ],
      "execution_count": null,
      "outputs": [
        {
          "output_type": "stream",
          "text": [
            "enter the altitude4500\n",
            "bring down to 1000\n"
          ],
          "name": "stdout"
        }
      ]
    },
    {
      "cell_type": "markdown",
      "metadata": {
        "id": "J_wf3kzbiKS5"
      },
      "source": [
        "enter the altitude5500\r\n",
        "turn around"
      ]
    },
    {
      "cell_type": "markdown",
      "metadata": {
        "id": "9PFMlMzZiV_9"
      },
      "source": [
        "enter the altitude1000\r\n",
        "safe to land"
      ]
    },
    {
      "cell_type": "markdown",
      "metadata": {
        "id": "0DxghQ8ZhmYI"
      },
      "source": [
        ""
      ]
    }
  ]
}