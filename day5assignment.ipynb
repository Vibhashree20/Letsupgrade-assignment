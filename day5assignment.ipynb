{
  "nbformat": 4,
  "nbformat_minor": 0,
  "metadata": {
    "colab": {
      "name": "day5assignment.ipynb",
      "provenance": [],
      "collapsed_sections": [],
      "authorship_tag": "ABX9TyNaee+plOK+WgCX9LHNyBAv",
      "include_colab_link": true
    },
    "kernelspec": {
      "name": "python3",
      "display_name": "Python 3"
    }
  },
  "cells": [
    {
      "cell_type": "markdown",
      "metadata": {
        "id": "view-in-github",
        "colab_type": "text"
      },
      "source": [
        "<a href=\"https://colab.research.google.com/github/Vibhashree20/Letsupgrade-assignment/blob/main/day5assignment.ipynb\" target=\"_parent\"><img src=\"https://colab.research.google.com/assets/colab-badge.svg\" alt=\"Open In Colab\"/></a>"
      ]
    },
    {
      "cell_type": "code",
      "metadata": {
        "colab": {
          "base_uri": "https://localhost:8080/"
        },
        "id": "rifJj7he2hAf",
        "outputId": "7750c4e3-fbbf-4a2f-c447-e5fa68f71fc4"
      },
      "source": [
        "def isprime(num):\r\n",
        "  if num<2:\r\n",
        "    return False  \r\n",
        "  for i in range(2,num//2+1):\r\n",
        "    if num%i==0:\r\n",
        "      return True\r\n",
        "  else:\r\n",
        "      return False\r\n",
        "print(isprime(2))\r\n",
        "print(isprime(5))\r\n",
        "print(isprime(4))\r\n"
      ],
      "execution_count": null,
      "outputs": [
        {
          "output_type": "stream",
          "text": [
            "True\n",
            "True\n",
            "False\n"
          ],
          "name": "stdout"
        }
      ]
    }
  ]
}